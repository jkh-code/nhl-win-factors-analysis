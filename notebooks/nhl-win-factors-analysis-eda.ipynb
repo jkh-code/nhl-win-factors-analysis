{
 "cells": [
  {
   "cell_type": "markdown",
   "id": "918af292",
   "metadata": {},
   "source": [
    "# NHL Win Factors Analysis EDA"
   ]
  },
  {
   "cell_type": "code",
   "execution_count": 2,
   "id": "803fa9ce",
   "metadata": {},
   "outputs": [],
   "source": [
    "import pandas as pd\n",
    "import matplotlib.pyplot as plt\n",
    "\n",
    "from web_scraping import make_postgres_conn"
   ]
  },
  {
   "cell_type": "code",
   "execution_count": 3,
   "id": "ca92f37e",
   "metadata": {},
   "outputs": [],
   "source": [
    "conn = make_postgres_conn('nhl')"
   ]
  },
  {
   "cell_type": "code",
   "execution_count": null,
   "id": "f5ee8873",
   "metadata": {},
   "outputs": [],
   "source": []
  }
 ],
 "metadata": {
  "kernelspec": {
   "display_name": "Python 3",
   "language": "python",
   "name": "python3"
  },
  "language_info": {
   "codemirror_mode": {
    "name": "ipython",
    "version": 3
   },
   "file_extension": ".py",
   "mimetype": "text/x-python",
   "name": "python",
   "nbconvert_exporter": "python",
   "pygments_lexer": "ipython3",
   "version": "3.8.10"
  }
 },
 "nbformat": 4,
 "nbformat_minor": 5
}
