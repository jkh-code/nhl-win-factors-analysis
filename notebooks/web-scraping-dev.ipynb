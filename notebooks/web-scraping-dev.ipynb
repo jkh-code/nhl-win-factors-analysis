{
 "metadata": {
  "language_info": {
   "codemirror_mode": {
    "name": "ipython",
    "version": 3
   },
   "file_extension": ".py",
   "mimetype": "text/x-python",
   "name": "python",
   "nbconvert_exporter": "python",
   "pygments_lexer": "ipython3",
   "version": "3.8.10"
  },
  "orig_nbformat": 2,
  "kernelspec": {
   "name": "python3810jvsc74a57bd05f11fdeaa5c7a19bba2e31add5ed9cf74452ba16791fb08424db0b4f84129e35",
   "display_name": "Python 3.8.10 64-bit ('base': conda)"
  }
 },
 "nbformat": 4,
 "nbformat_minor": 2,
 "cells": [
  {
   "cell_type": "code",
   "execution_count": 63,
   "metadata": {},
   "outputs": [],
   "source": [
    "from bs4 import BeautifulSoup\n",
    "from selenium import webdriver"
   ]
  },
  {
   "source": [
    "# from https://towardsdatascience.com/creating-an-easy-website-scraper-for-data-science-sports-prediction-pt-1-f024abd53861\n",
    "def url_to_soup(url: str) -> BeautifulSoup:\n",
    "    driver = webdriver.Chrome()\n",
    "    driver.get(url)\n",
    "    source = driver.page_source\n",
    "    driver.close()\n",
    "\n",
    "    url_soup = BeautifulSoup(source, 'lxml')\n",
    "    return url_soup"
   ],
   "cell_type": "code",
   "metadata": {},
   "execution_count": 79,
   "outputs": []
  },
  {
   "cell_type": "code",
   "execution_count": 75,
   "metadata": {},
   "outputs": [],
   "source": [
    "def make_url(year: int, page: int=0) -> str:\n",
    "    url = f'http://www.nhl.com/stats/teams?aggregate=0&reportType=game&seasonFrom={year}{year+1}&seasonTo={year}{year+1}&dateFromSeason&gameType=2&filter=gamesPlayed,gte,1&sort=points,wins&page={page}&pageSize=100'\n",
    "    return url"
   ]
  },
  {
   "cell_type": "code",
   "execution_count": null,
   "metadata": {},
   "outputs": [],
   "source": []
  },
  {
   "cell_type": "code",
   "execution_count": null,
   "metadata": {},
   "outputs": [],
   "source": []
  },
  {
   "cell_type": "code",
   "execution_count": null,
   "metadata": {},
   "outputs": [],
   "source": []
  },
  {
   "cell_type": "code",
   "execution_count": 66,
   "metadata": {},
   "outputs": [],
   "source": [
    "url = 'http://www.nhl.com/stats/teams?aggregate=0&reportType=game&seasonFrom=20172018&seasonTo=20172018&dateFromSeason&gameType=2&filter=gamesPlayed,gte,1&sort=points,wins&page=0&pageSize=100'"
   ]
  },
  {
   "cell_type": "code",
   "execution_count": null,
   "metadata": {},
   "outputs": [],
   "source": [
    "test = url_to_soup(url)\n",
    "test.find_all('div', class_='rt-tr-group')[0].find_all('div', class_='rt-td')[1].text.strip() # 'Toronto Maple Leafs'\n",
    "test.find('span', class_='-totalPages').text.strip() # '26'"
   ]
  },
  {
   "cell_type": "code",
   "execution_count": 68,
   "metadata": {},
   "outputs": [
    {
     "output_type": "stream",
     "name": "stdout",
     "text": [
      "1\nToronto Maple Leafs\n2017/11/16vs NJD\n1\n1\n0\n--\n0\n2\n1.000\n0\n1\n0\n1\n0\n1.00\n0.00\n0.0\n100.0\n0.0\n100.0\n25.0\n42.0\n55.1\n"
     ]
    }
   ],
   "source": [
    "row = test.find_all('div', class_='rt-tr-group')[0].find_all('div', class_='rt-td')\n",
    "for cell in row:\n",
    "    print(cell.text.strip())"
   ]
  },
  {
   "cell_type": "code",
   "execution_count": null,
   "metadata": {},
   "outputs": [],
   "source": []
  },
  {
   "cell_type": "code",
   "execution_count": 78,
   "metadata": {},
   "outputs": [
    {
     "output_type": "execute_result",
     "data": {
      "text/plain": [
       "['http://www.nhl.com/stats/teams?aggregate=0&reportType=game&seasonFrom=20092010&seasonTo=20092010&dateFromSeason&gameType=2&filter=gamesPlayed,gte,1&sort=points,wins&page=0&pageSize=100',\n",
       " 'http://www.nhl.com/stats/teams?aggregate=0&reportType=game&seasonFrom=20102011&seasonTo=20102011&dateFromSeason&gameType=2&filter=gamesPlayed,gte,1&sort=points,wins&page=0&pageSize=100',\n",
       " 'http://www.nhl.com/stats/teams?aggregate=0&reportType=game&seasonFrom=20112012&seasonTo=20112012&dateFromSeason&gameType=2&filter=gamesPlayed,gte,1&sort=points,wins&page=0&pageSize=100',\n",
       " 'http://www.nhl.com/stats/teams?aggregate=0&reportType=game&seasonFrom=20122013&seasonTo=20122013&dateFromSeason&gameType=2&filter=gamesPlayed,gte,1&sort=points,wins&page=0&pageSize=100',\n",
       " 'http://www.nhl.com/stats/teams?aggregate=0&reportType=game&seasonFrom=20132014&seasonTo=20132014&dateFromSeason&gameType=2&filter=gamesPlayed,gte,1&sort=points,wins&page=0&pageSize=100',\n",
       " 'http://www.nhl.com/stats/teams?aggregate=0&reportType=game&seasonFrom=20142015&seasonTo=20142015&dateFromSeason&gameType=2&filter=gamesPlayed,gte,1&sort=points,wins&page=0&pageSize=100',\n",
       " 'http://www.nhl.com/stats/teams?aggregate=0&reportType=game&seasonFrom=20152016&seasonTo=20152016&dateFromSeason&gameType=2&filter=gamesPlayed,gte,1&sort=points,wins&page=0&pageSize=100',\n",
       " 'http://www.nhl.com/stats/teams?aggregate=0&reportType=game&seasonFrom=20162017&seasonTo=20162017&dateFromSeason&gameType=2&filter=gamesPlayed,gte,1&sort=points,wins&page=0&pageSize=100',\n",
       " 'http://www.nhl.com/stats/teams?aggregate=0&reportType=game&seasonFrom=20172018&seasonTo=20172018&dateFromSeason&gameType=2&filter=gamesPlayed,gte,1&sort=points,wins&page=0&pageSize=100',\n",
       " 'http://www.nhl.com/stats/teams?aggregate=0&reportType=game&seasonFrom=20182019&seasonTo=20182019&dateFromSeason&gameType=2&filter=gamesPlayed,gte,1&sort=points,wins&page=0&pageSize=100']"
      ]
     },
     "metadata": {},
     "execution_count": 78
    }
   ],
   "source": [
    "years = range(2009, 2018+1)\n",
    "urls = []\n",
    "for year in years:\n",
    "    urls.append(make_url(year))\n",
    "urls"
   ]
  },
  {
   "cell_type": "code",
   "execution_count": null,
   "metadata": {},
   "outputs": [],
   "source": []
  },
  {
   "cell_type": "code",
   "execution_count": null,
   "metadata": {},
   "outputs": [],
   "source": []
  },
  {
   "cell_type": "code",
   "execution_count": null,
   "metadata": {},
   "outputs": [],
   "source": []
  },
  {
   "cell_type": "code",
   "execution_count": null,
   "metadata": {},
   "outputs": [],
   "source": []
  },
  {
   "cell_type": "code",
   "execution_count": null,
   "metadata": {},
   "outputs": [],
   "source": []
  },
  {
   "cell_type": "code",
   "execution_count": 20,
   "metadata": {},
   "outputs": [],
   "source": []
  },
  {
   "cell_type": "code",
   "execution_count": null,
   "metadata": {},
   "outputs": [],
   "source": []
  },
  {
   "cell_type": "code",
   "execution_count": null,
   "metadata": {},
   "outputs": [],
   "source": []
  }
 ]
}