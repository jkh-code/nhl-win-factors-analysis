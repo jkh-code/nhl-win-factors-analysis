{
 "metadata": {
  "language_info": {
   "codemirror_mode": {
    "name": "ipython",
    "version": 3
   },
   "file_extension": ".py",
   "mimetype": "text/x-python",
   "name": "python",
   "nbconvert_exporter": "python",
   "pygments_lexer": "ipython3",
   "version": "3.8.10"
  },
  "orig_nbformat": 2,
  "kernelspec": {
   "name": "python3810jvsc74a57bd05f11fdeaa5c7a19bba2e31add5ed9cf74452ba16791fb08424db0b4f84129e35",
   "display_name": "Python 3.8.10 64-bit ('base': conda)"
  }
 },
 "nbformat": 4,
 "nbformat_minor": 2,
 "cells": [
  {
   "cell_type": "code",
   "execution_count": 147,
   "metadata": {},
   "outputs": [],
   "source": [
    "from bs4 import BeautifulSoup\n",
    "from selenium import webdriver\n",
    "\n",
    "from pymongo import MongoClient\n",
    "import psycopg2 as pg2\n",
    "from sqlalchemy import create_engine\n",
    "from os import environ\n",
    "\n",
    "from pprint import pprint\n",
    "import pandas as pd\n",
    "import time"
   ]
  },
  {
   "source": [
    "# from https://towardsdatascience.com/creating-an-easy-website-scraper-for-data-science-sports-prediction-pt-1-f024abd53861\n",
    "def url_to_soup(url: str) -> BeautifulSoup:\n",
    "    driver = webdriver.Chrome()\n",
    "    driver.get(url)\n",
    "    source = driver.page_source\n",
    "    driver.close()\n",
    "\n",
    "    url_soup = BeautifulSoup(source, 'lxml')\n",
    "    return url_soup"
   ],
   "cell_type": "code",
   "metadata": {},
   "execution_count": 148,
   "outputs": []
  },
  {
   "cell_type": "code",
   "execution_count": 149,
   "metadata": {},
   "outputs": [],
   "source": [
    "def make_url(year: int, page: int=0) -> str:\n",
    "    url = f'http://www.nhl.com/stats/teams?aggregate=0&reportType=game&seasonFrom={year}{year+1}&seasonTo={year}{year+1}&dateFromSeason&gameType=2&filter=gamesPlayed,gte,1&sort=points,wins&page={page}&pageSize=100'\n",
    "    return url"
   ]
  },
  {
   "source": [
    "def convert_double_dash(cell: str, type_constructor):\n",
    "    if cell == '--':\n",
    "        return None\n",
    "    return type_constructor(cell)"
   ],
   "cell_type": "code",
   "metadata": {},
   "execution_count": 150,
   "outputs": []
  },
  {
   "cell_type": "code",
   "execution_count": 151,
   "metadata": {},
   "outputs": [],
   "source": [
    "def make_postgres_conn(dbname='postgres', port=5432):\n",
    "    conn = pg2.connect(\n",
    "        dbname=dbname,\n",
    "        port=port,\n",
    "        host=os.environ['PG_HOST'],\n",
    "        user=os.environ['PG_USER'],\n",
    "        password=os.environ['PG_PASSWORD'])\n",
    "    return conn"
   ]
  },
  {
   "cell_type": "code",
   "execution_count": 152,
   "metadata": {},
   "outputs": [],
   "source": [
    "def make_alchemy_engine(dbname='postgres', port=5432):\n",
    "    username = os.environ['PG_USER']\n",
    "    password = os.environ['PG_PASSWORD']\n",
    "    host = os.environ['PG_HOST']\n",
    "    string = f'postgresql://{username}:{password}@{host}:{port}/{dbname}'\n",
    "    return create_engine(string)"
   ]
  },
  {
   "cell_type": "code",
   "execution_count": 153,
   "metadata": {},
   "outputs": [],
   "source": [
    "def extract_page_table(soup: BeautifulSoup, season: int, page: int, row_schema: dict) -> list:\n",
    "    rows = soup.find_all('div', class_='rt-tr-group')\n",
    "    all_rows = []\n",
    "    for row in rows:\n",
    "        values = row.find_all('div', class_='rt-td')\n",
    "        if values[0].text.strip() == '&nbsp;' or values[0].text.strip() == '':\n",
    "            break\n",
    "\n",
    "        new_row = row_schema.copy()\n",
    "        new_row['team'] = values[1].text.strip()\n",
    "        new_row['game'] = values[2].text.strip()\n",
    "        new_row['gp'] = int(values[3].text.strip())\n",
    "        new_row['wins'] = int(values[4].text.strip())\n",
    "        new_row['losses'] = int(values[5].text.strip())\n",
    "        new_row['ties'] = convert_double_dash(values[6].text.strip(), int)\n",
    "        new_row['ot_losses'] = int(values[7].text.strip())\n",
    "        new_row['points'] = int(values[8].text.strip())\n",
    "        new_row['point_percent'] = float(values[9].text.strip())\n",
    "        new_row['reg_wins'] = int(values[10].text.strip())\n",
    "        new_row['reg_ot_wins'] = int(values[11].text.strip())\n",
    "        new_row['so_wins'] = int(values[12].text.strip())\n",
    "        new_row['gf'] = int(values[13].text.strip())\n",
    "        new_row['ga'] = int(values[14].text.strip())\n",
    "        new_row['gf_per_gp'] = convert_double_dash(values[15].text.strip(), float)\n",
    "        new_row['ga_per_gp'] = convert_double_dash(values[16].text.strip(), float)\n",
    "        new_row['pp_percent'] = convert_double_dash(values[17].text.strip(), float)\n",
    "        new_row['pk_percent'] = convert_double_dash(values[18].text.strip(), float)\n",
    "        new_row['pp_net_percent'] = convert_double_dash(values[19].text.strip(), float)\n",
    "        new_row['pk_net_percent'] = convert_double_dash(values[20].text.strip(), float)\n",
    "        new_row['sf_per_gp'] = convert_double_dash(values[21].text.strip(), float)\n",
    "        new_row['sa_per_gp'] = convert_double_dash(values[22].text.strip(), float)\n",
    "        new_row['fo_win_percent'] = float(values[23].text.strip())\n",
    "        new_row['season'] = season\n",
    "        new_row['page'] = page\n",
    "\n",
    "        all_rows.append(new_row)\n",
    "    \n",
    "    return all_rows"
   ]
  },
  {
   "cell_type": "code",
   "execution_count": null,
   "metadata": {},
   "outputs": [],
   "source": []
  },
  {
   "cell_type": "code",
   "execution_count": null,
   "metadata": {},
   "outputs": [],
   "source": []
  },
  {
   "cell_type": "code",
   "execution_count": null,
   "metadata": {},
   "outputs": [],
   "source": []
  },
  {
   "cell_type": "code",
   "execution_count": 66,
   "metadata": {},
   "outputs": [],
   "source": [
    "url = 'http://www.nhl.com/stats/teams?aggregate=0&reportType=game&seasonFrom=20172018&seasonTo=20172018&dateFromSeason&gameType=2&filter=gamesPlayed,gte,1&sort=points,wins&page=0&pageSize=100'"
   ]
  },
  {
   "cell_type": "code",
   "execution_count": null,
   "metadata": {},
   "outputs": [],
   "source": [
    "test = url_to_soup(url)\n",
    "test.find_all('div', class_='rt-tr-group')[0].find_all('div', class_='rt-td')[1].text.strip() # 'Toronto Maple Leafs'\n",
    "test.find('span', class_='-totalPages').text.strip() # '26'"
   ]
  },
  {
   "cell_type": "code",
   "execution_count": 68,
   "metadata": {},
   "outputs": [
    {
     "output_type": "stream",
     "name": "stdout",
     "text": [
      "1\nToronto Maple Leafs\n2017/11/16vs NJD\n1\n1\n0\n--\n0\n2\n1.000\n0\n1\n0\n1\n0\n1.00\n0.00\n0.0\n100.0\n0.0\n100.0\n25.0\n42.0\n55.1\n"
     ]
    }
   ],
   "source": [
    "row = test.find_all('div', class_='rt-tr-group')[0].find_all('div', class_='rt-td')\n",
    "for cell in row:\n",
    "    print(cell.text.strip())"
   ]
  },
  {
   "cell_type": "code",
   "execution_count": 112,
   "metadata": {
    "tags": []
   },
   "outputs": [],
   "source": [
    "empty_row = {'team': None, 'game': None, 'gp': None, 'wins': None, 'losses': None, 'ties': None,\n",
    "            'ot_losses': None, 'points': None, 'point_percent': None, 'reg_wins': None, \n",
    "            'reg_ot_wins': None, 'so_wins': None, 'gf': None, 'ga': None, 'gf_per_gp': None, \n",
    "            'ga_per_gp': None, 'pp_percent': None, 'pk_percent': None, 'pp_net_percent': None, \n",
    "            'pk_net_percent': None, 'sf_per_gp': None, 'sa_per_gp': None, \n",
    "            'fo_win_percent': None, 'season': None, 'page': None}\n",
    "\n",
    "rows = test.find_all('div', class_='rt-tr-group')\n",
    "all_rows = []\n",
    "for row in rows:\n",
    "    values = row.find_all('div', class_='rt-td')\n",
    "    if values[0].text.strip() == '&nbsp;' or values[0].text.strip() == '':\n",
    "        break\n",
    "\n",
    "    new_row = empty_row.copy()\n",
    "    new_row['team'] = values[1].text.strip()\n",
    "    new_row['game'] = values[2].text.strip()\n",
    "    new_row['gp'] = int(values[3].text.strip())\n",
    "    new_row['wins'] = int(values[4].text.strip())\n",
    "    new_row['losses'] = int(values[5].text.strip())\n",
    "    new_row['ties'] = convert_double_dash(values[6].text.strip(), int)\n",
    "    new_row['ot_losses'] = int(values[7].text.strip())\n",
    "    new_row['points'] = int(values[8].text.strip())\n",
    "    new_row['point_percent'] = float(values[9].text.strip())\n",
    "    new_row['reg_wins'] = int(values[10].text.strip())\n",
    "    new_row['reg_ot_wins'] = int(values[11].text.strip())\n",
    "    new_row['so_wins'] = int(values[12].text.strip())\n",
    "    new_row['gf'] = int(values[13].text.strip())\n",
    "    new_row['ga'] = int(values[14].text.strip())\n",
    "    new_row['gf_per_gp'] = convert_double_dash(values[15].text.strip(), float)\n",
    "    new_row['ga_per_gp'] = convert_double_dash(values[16].text.strip(), float)\n",
    "    new_row['pp_percent'] = convert_double_dash(values[17].text.strip(), float)\n",
    "    new_row['pk_percent'] = convert_double_dash(values[18].text.strip(), float)\n",
    "    new_row['pp_net_percent'] = convert_double_dash(values[19].text.strip(), float)\n",
    "    new_row['pk_net_percent'] = convert_double_dash(values[20].text.strip(), float)\n",
    "    new_row['sf_per_gp'] = convert_double_dash(values[21].text.strip(), float)\n",
    "    new_row['sa_per_gp'] = convert_double_dash(values[22].text.strip(), float)\n",
    "    new_row['fo_win_percent'] = float(values[23].text.strip())\n",
    "    new_row['season'] = 2017\n",
    "    new_row['page'] = 0\n",
    "    all_rows.append(new_row)"
   ]
  },
  {
   "cell_type": "code",
   "execution_count": 113,
   "metadata": {},
   "outputs": [
    {
     "output_type": "execute_result",
     "data": {
      "text/plain": [
       "                     team              game  gp  wins  losses  ties  \\\n",
       "0     Toronto Maple Leafs  2017/11/16vs NJD   1     1       0  None   \n",
       "1   Columbus Blue Jackets  2017/12/09vs ARI   1     1       0  None   \n",
       "2     Nashville Predators   2017/10/19@ PHI   1     1       0  None   \n",
       "3      Chicago Blackhawks   2018/01/30@ NSH   1     1       0  None   \n",
       "4      Chicago Blackhawks   2017/11/18@ PIT   1     1       0  None   \n",
       "..                    ...               ...  ..   ...     ...   ...   \n",
       "95     Montréal Canadiens   2018/01/19@ WSH   1     1       0  None   \n",
       "96     Montréal Canadiens   2017/10/05@ BUF   1     1       0  None   \n",
       "97     Montréal Canadiens  2018/02/04vs OTT   1     1       0  None   \n",
       "98          Anaheim Ducks  2018/01/19vs LAK   1     1       0  None   \n",
       "99          Boston Bruins  2018/03/10vs CHI   1     1       0  None   \n",
       "\n",
       "    ot_losses  points  point_percent  reg_wins  ...  ga_per_gp  pp_percent  \\\n",
       "0           0       2            1.0         0  ...        0.0         0.0   \n",
       "1           0       2            1.0         1  ...        0.0         0.0   \n",
       "2           0       2            1.0         1  ...        0.0         0.0   \n",
       "3           0       2            1.0         1  ...        1.0         0.0   \n",
       "4           0       2            1.0         1  ...        1.0        40.0   \n",
       "..        ...     ...            ...       ...  ...        ...         ...   \n",
       "95          0       2            1.0         1  ...        2.0        25.0   \n",
       "96          0       2            1.0         0  ...        2.0         0.0   \n",
       "97          0       2            1.0         1  ...        1.0        66.7   \n",
       "98          0       2            1.0         1  ...        1.0         0.0   \n",
       "99          0       2            1.0         1  ...        4.0        66.7   \n",
       "\n",
       "    pk_percent  pp_net_percent  pk_net_percent  sf_per_gp  sa_per_gp  \\\n",
       "0        100.0             0.0           100.0       25.0       42.0   \n",
       "1        100.0             0.0           100.0       34.0       35.0   \n",
       "2        100.0             0.0           100.0       24.0       28.0   \n",
       "3        100.0             0.0           100.0       31.0       43.0   \n",
       "4        100.0            20.0           100.0       38.0       36.0   \n",
       "..         ...             ...             ...        ...        ...   \n",
       "95        66.7            25.0            66.7       26.0       26.0   \n",
       "96        80.0             0.0           100.0       40.0       45.0   \n",
       "97       100.0            66.7           100.0       35.0       26.0   \n",
       "98       100.0             0.0           100.0       31.0       24.0   \n",
       "99       100.0            66.7           150.0       40.0       27.0   \n",
       "\n",
       "    fo_win_percent  season  page  \n",
       "0             55.1    2017     0  \n",
       "1             57.1    2017     0  \n",
       "2             45.8    2017     0  \n",
       "3             43.1    2017     0  \n",
       "4             42.0    2017     0  \n",
       "..             ...     ...   ...  \n",
       "95            42.9    2017     0  \n",
       "96            50.0    2017     0  \n",
       "97            42.1    2017     0  \n",
       "98            61.8    2017     0  \n",
       "99            46.0    2017     0  \n",
       "\n",
       "[100 rows x 25 columns]"
      ],
      "text/html": "<div>\n<style scoped>\n    .dataframe tbody tr th:only-of-type {\n        vertical-align: middle;\n    }\n\n    .dataframe tbody tr th {\n        vertical-align: top;\n    }\n\n    .dataframe thead th {\n        text-align: right;\n    }\n</style>\n<table border=\"1\" class=\"dataframe\">\n  <thead>\n    <tr style=\"text-align: right;\">\n      <th></th>\n      <th>team</th>\n      <th>game</th>\n      <th>gp</th>\n      <th>wins</th>\n      <th>losses</th>\n      <th>ties</th>\n      <th>ot_losses</th>\n      <th>points</th>\n      <th>point_percent</th>\n      <th>reg_wins</th>\n      <th>...</th>\n      <th>ga_per_gp</th>\n      <th>pp_percent</th>\n      <th>pk_percent</th>\n      <th>pp_net_percent</th>\n      <th>pk_net_percent</th>\n      <th>sf_per_gp</th>\n      <th>sa_per_gp</th>\n      <th>fo_win_percent</th>\n      <th>season</th>\n      <th>page</th>\n    </tr>\n  </thead>\n  <tbody>\n    <tr>\n      <th>0</th>\n      <td>Toronto Maple Leafs</td>\n      <td>2017/11/16vs NJD</td>\n      <td>1</td>\n      <td>1</td>\n      <td>0</td>\n      <td>None</td>\n      <td>0</td>\n      <td>2</td>\n      <td>1.0</td>\n      <td>0</td>\n      <td>...</td>\n      <td>0.0</td>\n      <td>0.0</td>\n      <td>100.0</td>\n      <td>0.0</td>\n      <td>100.0</td>\n      <td>25.0</td>\n      <td>42.0</td>\n      <td>55.1</td>\n      <td>2017</td>\n      <td>0</td>\n    </tr>\n    <tr>\n      <th>1</th>\n      <td>Columbus Blue Jackets</td>\n      <td>2017/12/09vs ARI</td>\n      <td>1</td>\n      <td>1</td>\n      <td>0</td>\n      <td>None</td>\n      <td>0</td>\n      <td>2</td>\n      <td>1.0</td>\n      <td>1</td>\n      <td>...</td>\n      <td>0.0</td>\n      <td>0.0</td>\n      <td>100.0</td>\n      <td>0.0</td>\n      <td>100.0</td>\n      <td>34.0</td>\n      <td>35.0</td>\n      <td>57.1</td>\n      <td>2017</td>\n      <td>0</td>\n    </tr>\n    <tr>\n      <th>2</th>\n      <td>Nashville Predators</td>\n      <td>2017/10/19@ PHI</td>\n      <td>1</td>\n      <td>1</td>\n      <td>0</td>\n      <td>None</td>\n      <td>0</td>\n      <td>2</td>\n      <td>1.0</td>\n      <td>1</td>\n      <td>...</td>\n      <td>0.0</td>\n      <td>0.0</td>\n      <td>100.0</td>\n      <td>0.0</td>\n      <td>100.0</td>\n      <td>24.0</td>\n      <td>28.0</td>\n      <td>45.8</td>\n      <td>2017</td>\n      <td>0</td>\n    </tr>\n    <tr>\n      <th>3</th>\n      <td>Chicago Blackhawks</td>\n      <td>2018/01/30@ NSH</td>\n      <td>1</td>\n      <td>1</td>\n      <td>0</td>\n      <td>None</td>\n      <td>0</td>\n      <td>2</td>\n      <td>1.0</td>\n      <td>1</td>\n      <td>...</td>\n      <td>1.0</td>\n      <td>0.0</td>\n      <td>100.0</td>\n      <td>0.0</td>\n      <td>100.0</td>\n      <td>31.0</td>\n      <td>43.0</td>\n      <td>43.1</td>\n      <td>2017</td>\n      <td>0</td>\n    </tr>\n    <tr>\n      <th>4</th>\n      <td>Chicago Blackhawks</td>\n      <td>2017/11/18@ PIT</td>\n      <td>1</td>\n      <td>1</td>\n      <td>0</td>\n      <td>None</td>\n      <td>0</td>\n      <td>2</td>\n      <td>1.0</td>\n      <td>1</td>\n      <td>...</td>\n      <td>1.0</td>\n      <td>40.0</td>\n      <td>100.0</td>\n      <td>20.0</td>\n      <td>100.0</td>\n      <td>38.0</td>\n      <td>36.0</td>\n      <td>42.0</td>\n      <td>2017</td>\n      <td>0</td>\n    </tr>\n    <tr>\n      <th>...</th>\n      <td>...</td>\n      <td>...</td>\n      <td>...</td>\n      <td>...</td>\n      <td>...</td>\n      <td>...</td>\n      <td>...</td>\n      <td>...</td>\n      <td>...</td>\n      <td>...</td>\n      <td>...</td>\n      <td>...</td>\n      <td>...</td>\n      <td>...</td>\n      <td>...</td>\n      <td>...</td>\n      <td>...</td>\n      <td>...</td>\n      <td>...</td>\n      <td>...</td>\n      <td>...</td>\n    </tr>\n    <tr>\n      <th>95</th>\n      <td>Montréal Canadiens</td>\n      <td>2018/01/19@ WSH</td>\n      <td>1</td>\n      <td>1</td>\n      <td>0</td>\n      <td>None</td>\n      <td>0</td>\n      <td>2</td>\n      <td>1.0</td>\n      <td>1</td>\n      <td>...</td>\n      <td>2.0</td>\n      <td>25.0</td>\n      <td>66.7</td>\n      <td>25.0</td>\n      <td>66.7</td>\n      <td>26.0</td>\n      <td>26.0</td>\n      <td>42.9</td>\n      <td>2017</td>\n      <td>0</td>\n    </tr>\n    <tr>\n      <th>96</th>\n      <td>Montréal Canadiens</td>\n      <td>2017/10/05@ BUF</td>\n      <td>1</td>\n      <td>1</td>\n      <td>0</td>\n      <td>None</td>\n      <td>0</td>\n      <td>2</td>\n      <td>1.0</td>\n      <td>0</td>\n      <td>...</td>\n      <td>2.0</td>\n      <td>0.0</td>\n      <td>80.0</td>\n      <td>0.0</td>\n      <td>100.0</td>\n      <td>40.0</td>\n      <td>45.0</td>\n      <td>50.0</td>\n      <td>2017</td>\n      <td>0</td>\n    </tr>\n    <tr>\n      <th>97</th>\n      <td>Montréal Canadiens</td>\n      <td>2018/02/04vs OTT</td>\n      <td>1</td>\n      <td>1</td>\n      <td>0</td>\n      <td>None</td>\n      <td>0</td>\n      <td>2</td>\n      <td>1.0</td>\n      <td>1</td>\n      <td>...</td>\n      <td>1.0</td>\n      <td>66.7</td>\n      <td>100.0</td>\n      <td>66.7</td>\n      <td>100.0</td>\n      <td>35.0</td>\n      <td>26.0</td>\n      <td>42.1</td>\n      <td>2017</td>\n      <td>0</td>\n    </tr>\n    <tr>\n      <th>98</th>\n      <td>Anaheim Ducks</td>\n      <td>2018/01/19vs LAK</td>\n      <td>1</td>\n      <td>1</td>\n      <td>0</td>\n      <td>None</td>\n      <td>0</td>\n      <td>2</td>\n      <td>1.0</td>\n      <td>1</td>\n      <td>...</td>\n      <td>1.0</td>\n      <td>0.0</td>\n      <td>100.0</td>\n      <td>0.0</td>\n      <td>100.0</td>\n      <td>31.0</td>\n      <td>24.0</td>\n      <td>61.8</td>\n      <td>2017</td>\n      <td>0</td>\n    </tr>\n    <tr>\n      <th>99</th>\n      <td>Boston Bruins</td>\n      <td>2018/03/10vs CHI</td>\n      <td>1</td>\n      <td>1</td>\n      <td>0</td>\n      <td>None</td>\n      <td>0</td>\n      <td>2</td>\n      <td>1.0</td>\n      <td>1</td>\n      <td>...</td>\n      <td>4.0</td>\n      <td>66.7</td>\n      <td>100.0</td>\n      <td>66.7</td>\n      <td>150.0</td>\n      <td>40.0</td>\n      <td>27.0</td>\n      <td>46.0</td>\n      <td>2017</td>\n      <td>0</td>\n    </tr>\n  </tbody>\n</table>\n<p>100 rows × 25 columns</p>\n</div>"
     },
     "metadata": {},
     "execution_count": 113
    }
   ],
   "source": [
    "pd.DataFrame(all_rows)"
   ]
  },
  {
   "cell_type": "code",
   "execution_count": 78,
   "metadata": {},
   "outputs": [
    {
     "output_type": "execute_result",
     "data": {
      "text/plain": [
       "['http://www.nhl.com/stats/teams?aggregate=0&reportType=game&seasonFrom=20092010&seasonTo=20092010&dateFromSeason&gameType=2&filter=gamesPlayed,gte,1&sort=points,wins&page=0&pageSize=100',\n",
       " 'http://www.nhl.com/stats/teams?aggregate=0&reportType=game&seasonFrom=20102011&seasonTo=20102011&dateFromSeason&gameType=2&filter=gamesPlayed,gte,1&sort=points,wins&page=0&pageSize=100',\n",
       " 'http://www.nhl.com/stats/teams?aggregate=0&reportType=game&seasonFrom=20112012&seasonTo=20112012&dateFromSeason&gameType=2&filter=gamesPlayed,gte,1&sort=points,wins&page=0&pageSize=100',\n",
       " 'http://www.nhl.com/stats/teams?aggregate=0&reportType=game&seasonFrom=20122013&seasonTo=20122013&dateFromSeason&gameType=2&filter=gamesPlayed,gte,1&sort=points,wins&page=0&pageSize=100',\n",
       " 'http://www.nhl.com/stats/teams?aggregate=0&reportType=game&seasonFrom=20132014&seasonTo=20132014&dateFromSeason&gameType=2&filter=gamesPlayed,gte,1&sort=points,wins&page=0&pageSize=100',\n",
       " 'http://www.nhl.com/stats/teams?aggregate=0&reportType=game&seasonFrom=20142015&seasonTo=20142015&dateFromSeason&gameType=2&filter=gamesPlayed,gte,1&sort=points,wins&page=0&pageSize=100',\n",
       " 'http://www.nhl.com/stats/teams?aggregate=0&reportType=game&seasonFrom=20152016&seasonTo=20152016&dateFromSeason&gameType=2&filter=gamesPlayed,gte,1&sort=points,wins&page=0&pageSize=100',\n",
       " 'http://www.nhl.com/stats/teams?aggregate=0&reportType=game&seasonFrom=20162017&seasonTo=20162017&dateFromSeason&gameType=2&filter=gamesPlayed,gte,1&sort=points,wins&page=0&pageSize=100',\n",
       " 'http://www.nhl.com/stats/teams?aggregate=0&reportType=game&seasonFrom=20172018&seasonTo=20172018&dateFromSeason&gameType=2&filter=gamesPlayed,gte,1&sort=points,wins&page=0&pageSize=100',\n",
       " 'http://www.nhl.com/stats/teams?aggregate=0&reportType=game&seasonFrom=20182019&seasonTo=20182019&dateFromSeason&gameType=2&filter=gamesPlayed,gte,1&sort=points,wins&page=0&pageSize=100']"
      ]
     },
     "metadata": {},
     "execution_count": 78
    }
   ],
   "source": [
    "years = range(2009, 2018+1)\n",
    "urls = []\n",
    "for year in years:\n",
    "    urls.append(make_url(year))\n",
    "urls"
   ]
  },
  {
   "cell_type": "code",
   "execution_count": null,
   "metadata": {},
   "outputs": [],
   "source": []
  },
  {
   "cell_type": "code",
   "execution_count": null,
   "metadata": {},
   "outputs": [],
   "source": []
  },
  {
   "cell_type": "code",
   "execution_count": null,
   "metadata": {},
   "outputs": [],
   "source": []
  },
  {
   "cell_type": "code",
   "execution_count": 154,
   "metadata": {},
   "outputs": [],
   "source": [
    "mongo = MongoClient('localhost', 27017)\n",
    "db = mongo['nhl']\n",
    "coll = db['soup']"
   ]
  },
  {
   "cell_type": "code",
   "execution_count": 137,
   "metadata": {},
   "outputs": [],
   "source": [
    "# conn = make_postgres_conn(dbname='nhl')"
   ]
  },
  {
   "cell_type": "code",
   "execution_count": 138,
   "metadata": {},
   "outputs": [],
   "source": [
    "# conn.close()"
   ]
  },
  {
   "cell_type": "code",
   "execution_count": 155,
   "metadata": {},
   "outputs": [],
   "source": [
    "engine = make_alchemy_engine('nhl')\n",
    "# engine.dispose()"
   ]
  },
  {
   "cell_type": "code",
   "execution_count": 156,
   "metadata": {},
   "outputs": [],
   "source": [
    "empty_row = {'team': None, 'game': None, 'gp': None, 'wins': None, 'losses': None, 'ties': None,\n",
    "            'ot_losses': None, 'points': None, 'point_percent': None, 'reg_wins': None, \n",
    "            'reg_ot_wins': None, 'so_wins': None, 'gf': None, 'ga': None, 'gf_per_gp': None, \n",
    "            'ga_per_gp': None, 'pp_percent': None, 'pk_percent': None, 'pp_net_percent': None, \n",
    "            'pk_net_percent': None, 'sf_per_gp': None, 'sa_per_gp': None, \n",
    "            'fo_win_percent': None, 'season': None, 'page': None}"
   ]
  },
  {
   "cell_type": "code",
   "execution_count": null,
   "metadata": {},
   "outputs": [],
   "source": []
  },
  {
   "cell_type": "code",
   "execution_count": null,
   "metadata": {},
   "outputs": [],
   "source": []
  },
  {
   "cell_type": "code",
   "execution_count": 128,
   "metadata": {},
   "outputs": [
    {
     "output_type": "execute_result",
     "data": {
      "text/plain": [
       "str"
      ]
     },
     "metadata": {},
     "execution_count": 128
    }
   ],
   "source": []
  },
  {
   "cell_type": "code",
   "execution_count": 157,
   "metadata": {},
   "outputs": [],
   "source": [
    "season = 2009\n",
    "start_url = make_url(season)\n",
    "soup = url_to_soup(start_url)\n",
    "num_pages = int(soup.find('span', class_='-totalPages').text.strip())\n",
    "for page in range(num_pages):\n",
    "    if page > 0:\n",
    "        new_url = make_url(season, page)\n",
    "        soup = url_to_soup(new_url)\n",
    "    \n",
    "    coll.insert_one({'season': season, 'page': page, 'soup': soup.prettify()})\n",
    "\n",
    "    all_rows = extract_page_table(soup, season, page, empty_row)\n",
    "\n",
    "    table = pd.DataFrame(all_rows)\n",
    "    table.to_sql('games', engine, index=False, if_exists='append')\n",
    "    time.sleep(5)"
   ]
  },
  {
   "cell_type": "code",
   "execution_count": null,
   "metadata": {},
   "outputs": [],
   "source": []
  },
  {
   "cell_type": "code",
   "execution_count": null,
   "metadata": {},
   "outputs": [],
   "source": []
  },
  {
   "cell_type": "code",
   "execution_count": null,
   "metadata": {},
   "outputs": [],
   "source": []
  },
  {
   "cell_type": "code",
   "execution_count": 20,
   "metadata": {},
   "outputs": [],
   "source": []
  },
  {
   "cell_type": "code",
   "execution_count": null,
   "metadata": {},
   "outputs": [],
   "source": []
  },
  {
   "cell_type": "code",
   "execution_count": null,
   "metadata": {},
   "outputs": [],
   "source": []
  }
 ]
}